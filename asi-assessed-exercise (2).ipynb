{
 "cells": [
  {
   "cell_type": "code",
   "execution_count": 5,
   "metadata": {
    "_cell_guid": "b1076dfc-b9ad-4769-8c92-a6c4dae69d19",
    "_uuid": "8f2839f25d086af736a60e9eeb907d3b93b6e0e5",
    "execution": {
     "iopub.execute_input": "2021-05-27T10:54:33.054317Z",
     "iopub.status.busy": "2021-05-27T10:54:33.053870Z",
     "iopub.status.idle": "2021-05-27T10:54:33.066037Z",
     "shell.execute_reply": "2021-05-27T10:54:33.064617Z",
     "shell.execute_reply.started": "2021-05-27T10:54:33.054282Z"
    }
   },
   "outputs": [
    {
     "name": "stdout",
     "output_type": "stream",
     "text": [
      "/kaggle/input/santander-customer-transaction-prediction/sample_submission.csv\n",
      "/kaggle/input/santander-customer-transaction-prediction/train.csv\n",
      "/kaggle/input/santander-customer-transaction-prediction/test.csv\n"
     ]
    }
   ],
   "source": [
    "# This Python 3 environment comes with many helpful analytics libraries installed\n",
    "# It is defined by the kaggle/python Docker image: https://github.com/kaggle/docker-python\n",
    "# For example, here's several helpful packages to load\n",
    "\n",
    "import numpy as np # linear algebra\n",
    "import pandas as pd # data processing, CSV file I/O (e.g. pd.read_csv)\n",
    "\n",
    "# Input data files are available in the read-only \"../input/\" directory\n",
    "# For example, running this (by clicking run or pressing Shift+Enter) will list all files under the input directory\n",
    "\n",
    "import os\n",
    "for dirname, _, filenames in os.walk('/kaggle/input'):\n",
    "    for filename in filenames:\n",
    "        print(os.path.join(dirname, filename))\n",
    "\n",
    "# You can write up to 20GB to the current directory (/kaggle/working/) that gets preserved as output when you create a version using \"Save & Run All\" \n",
    "# You can also write temporary files to /kaggle/temp/, but they won't be saved outside of the current session"
   ]
  },
  {
   "cell_type": "markdown",
   "metadata": {},
   "source": [
    "## A"
   ]
  },
  {
   "cell_type": "markdown",
   "metadata": {},
   "source": [
    "Due to space issues on my computer, I directly worked on kaggle, thus the path to retrieve the dataset."
   ]
  },
  {
   "cell_type": "code",
   "execution_count": 6,
   "metadata": {
    "execution": {
     "iopub.execute_input": "2021-05-27T10:54:34.407676Z",
     "iopub.status.busy": "2021-05-27T10:54:34.407209Z",
     "iopub.status.idle": "2021-05-27T10:54:45.341020Z",
     "shell.execute_reply": "2021-05-27T10:54:45.339904Z",
     "shell.execute_reply.started": "2021-05-27T10:54:34.407638Z"
    }
   },
   "outputs": [],
   "source": [
    "data_df = pd.read_csv(\"/kaggle/input/santander-customer-transaction-prediction/train.csv\")\n",
    "X_df = data_df.iloc[:,2:].copy()\n",
    "y_df =  data_df.iloc[:,1].copy()"
   ]
  },
  {
   "cell_type": "code",
   "execution_count": 7,
   "metadata": {
    "execution": {
     "iopub.execute_input": "2021-05-27T10:54:45.342833Z",
     "iopub.status.busy": "2021-05-27T10:54:45.342536Z",
     "iopub.status.idle": "2021-05-27T10:54:45.796838Z",
     "shell.execute_reply": "2021-05-27T10:54:45.795785Z",
     "shell.execute_reply.started": "2021-05-27T10:54:45.342804Z"
    }
   },
   "outputs": [],
   "source": [
    "from sklearn.model_selection import train_test_split\n",
    "X_train, X_test, y_train_df, y_test_df = train_test_split(\n",
    "    X_df, y_df, random_state=1, test_size=0.5)"
   ]
  },
  {
   "cell_type": "markdown",
   "metadata": {},
   "source": [
    "## B"
   ]
  },
  {
   "cell_type": "code",
   "execution_count": 8,
   "metadata": {
    "execution": {
     "iopub.execute_input": "2021-05-27T10:54:45.798947Z",
     "iopub.status.busy": "2021-05-27T10:54:45.798649Z",
     "iopub.status.idle": "2021-05-27T10:54:45.804519Z",
     "shell.execute_reply": "2021-05-27T10:54:45.803279Z",
     "shell.execute_reply.started": "2021-05-27T10:54:45.798918Z"
    }
   },
   "outputs": [
    {
     "name": "stdout",
     "output_type": "stream",
     "text": [
      "Ratio of label 1 : 0.10049\n"
     ]
    }
   ],
   "source": [
    "label_1 = y_df.sum()\n",
    "ratio = label_1/len(y_df)\n",
    "print('Ratio of label 1 : {}'.format(ratio))"
   ]
  },
  {
   "cell_type": "markdown",
   "metadata": {},
   "source": [
    "Only 10% of the dataset is composed of the label 1 --> The dataset is not equilibrated. Therefore a good model should provide an accuracy above 90% as a predicting that all outputs are 0 would ensure such an accuracy."
   ]
  },
  {
   "cell_type": "code",
   "execution_count": 9,
   "metadata": {
    "execution": {
     "iopub.execute_input": "2021-05-27T10:54:45.806333Z",
     "iopub.status.busy": "2021-05-27T10:54:45.806043Z",
     "iopub.status.idle": "2021-05-27T10:54:45.851531Z",
     "shell.execute_reply": "2021-05-27T10:54:45.850365Z",
     "shell.execute_reply.started": "2021-05-27T10:54:45.806305Z"
    }
   },
   "outputs": [
    {
     "data": {
      "text/html": [
       "<div>\n",
       "<style scoped>\n",
       "    .dataframe tbody tr th:only-of-type {\n",
       "        vertical-align: middle;\n",
       "    }\n",
       "\n",
       "    .dataframe tbody tr th {\n",
       "        vertical-align: top;\n",
       "    }\n",
       "\n",
       "    .dataframe thead th {\n",
       "        text-align: right;\n",
       "    }\n",
       "</style>\n",
       "<table border=\"1\" class=\"dataframe\">\n",
       "  <thead>\n",
       "    <tr style=\"text-align: right;\">\n",
       "      <th></th>\n",
       "      <th>var_0</th>\n",
       "      <th>var_1</th>\n",
       "      <th>var_2</th>\n",
       "      <th>var_3</th>\n",
       "      <th>var_4</th>\n",
       "      <th>var_5</th>\n",
       "      <th>var_6</th>\n",
       "      <th>var_7</th>\n",
       "      <th>var_8</th>\n",
       "      <th>var_9</th>\n",
       "      <th>...</th>\n",
       "      <th>var_190</th>\n",
       "      <th>var_191</th>\n",
       "      <th>var_192</th>\n",
       "      <th>var_193</th>\n",
       "      <th>var_194</th>\n",
       "      <th>var_195</th>\n",
       "      <th>var_196</th>\n",
       "      <th>var_197</th>\n",
       "      <th>var_198</th>\n",
       "      <th>var_199</th>\n",
       "    </tr>\n",
       "  </thead>\n",
       "  <tbody>\n",
       "    <tr>\n",
       "      <th>0</th>\n",
       "      <td>8.9255</td>\n",
       "      <td>-6.7863</td>\n",
       "      <td>11.9081</td>\n",
       "      <td>5.093</td>\n",
       "      <td>11.4607</td>\n",
       "      <td>-9.2834</td>\n",
       "      <td>5.1187</td>\n",
       "      <td>18.6266</td>\n",
       "      <td>-4.9200</td>\n",
       "      <td>5.7470</td>\n",
       "      <td>...</td>\n",
       "      <td>4.4354</td>\n",
       "      <td>3.9642</td>\n",
       "      <td>3.1364</td>\n",
       "      <td>1.6910</td>\n",
       "      <td>18.5227</td>\n",
       "      <td>-2.3978</td>\n",
       "      <td>7.8784</td>\n",
       "      <td>8.5635</td>\n",
       "      <td>12.7803</td>\n",
       "      <td>-1.0914</td>\n",
       "    </tr>\n",
       "    <tr>\n",
       "      <th>1</th>\n",
       "      <td>11.5006</td>\n",
       "      <td>-4.1473</td>\n",
       "      <td>13.8588</td>\n",
       "      <td>5.389</td>\n",
       "      <td>12.3622</td>\n",
       "      <td>7.0433</td>\n",
       "      <td>5.6208</td>\n",
       "      <td>16.5338</td>\n",
       "      <td>3.1468</td>\n",
       "      <td>8.0851</td>\n",
       "      <td>...</td>\n",
       "      <td>7.6421</td>\n",
       "      <td>7.7214</td>\n",
       "      <td>2.5837</td>\n",
       "      <td>10.9516</td>\n",
       "      <td>15.4305</td>\n",
       "      <td>2.0339</td>\n",
       "      <td>8.1267</td>\n",
       "      <td>8.7889</td>\n",
       "      <td>18.3560</td>\n",
       "      <td>1.9518</td>\n",
       "    </tr>\n",
       "  </tbody>\n",
       "</table>\n",
       "<p>2 rows × 200 columns</p>\n",
       "</div>"
      ],
      "text/plain": [
       "     var_0   var_1    var_2  var_3    var_4   var_5   var_6    var_7   var_8  \\\n",
       "0   8.9255 -6.7863  11.9081  5.093  11.4607 -9.2834  5.1187  18.6266 -4.9200   \n",
       "1  11.5006 -4.1473  13.8588  5.389  12.3622  7.0433  5.6208  16.5338  3.1468   \n",
       "\n",
       "    var_9  ...  var_190  var_191  var_192  var_193  var_194  var_195  var_196  \\\n",
       "0  5.7470  ...   4.4354   3.9642   3.1364   1.6910  18.5227  -2.3978   7.8784   \n",
       "1  8.0851  ...   7.6421   7.7214   2.5837  10.9516  15.4305   2.0339   8.1267   \n",
       "\n",
       "   var_197  var_198  var_199  \n",
       "0   8.5635  12.7803  -1.0914  \n",
       "1   8.7889  18.3560   1.9518  \n",
       "\n",
       "[2 rows x 200 columns]"
      ]
     },
     "execution_count": 9,
     "metadata": {},
     "output_type": "execute_result"
    }
   ],
   "source": [
    "X_df.head(2)\n"
   ]
  },
  {
   "cell_type": "markdown",
   "metadata": {},
   "source": [
    "The input is composed in total of 200 000 single inputs (therefore the training and testing datasets each contain 100 000 inputs). Each input has 200 features. This high number of features justifies the use of a Bayesian approach compared to other machine learning meathods. As a matter of fact, due to the class independence assumption, the model doesn't have to take into account any possible correlation between the different features and therefore needs less input data to train."
   ]
  },
  {
   "cell_type": "markdown",
   "metadata": {},
   "source": [
    "# 1. Bayesian Linear Regression"
   ]
  },
  {
   "cell_type": "markdown",
   "metadata": {},
   "source": [
    "## 1A"
   ]
  },
  {
   "cell_type": "code",
   "execution_count": 10,
   "metadata": {
    "execution": {
     "iopub.execute_input": "2021-05-27T10:54:45.853086Z",
     "iopub.status.busy": "2021-05-27T10:54:45.852752Z",
     "iopub.status.idle": "2021-05-27T10:54:45.859517Z",
     "shell.execute_reply": "2021-05-27T10:54:45.857747Z",
     "shell.execute_reply.started": "2021-05-27T10:54:45.853056Z"
    }
   },
   "outputs": [],
   "source": [
    "def compute_posterior(X, y, sigma2priorweights, sigma2noise):\n",
    "    Sigma_inverse =    1/sigma2noise*X.T@X + np.diag([sigma2priorweights]*len(X[0]))\n",
    "    posterior_mu = np.linalg.solve(Sigma_inverse, X.T@y)/sigma2noise\n",
    "    posterior_Sigma =  np.linalg.solve(Sigma_inverse, np.identity(len(Sigma_inverse)))\n",
    "    return posterior_mu, posterior_Sigma"
   ]
  },
  {
   "cell_type": "code",
   "execution_count": 11,
   "metadata": {
    "execution": {
     "iopub.execute_input": "2021-05-27T10:54:45.861456Z",
     "iopub.status.busy": "2021-05-27T10:54:45.860952Z",
     "iopub.status.idle": "2021-05-27T10:54:45.873426Z",
     "shell.execute_reply": "2021-05-27T10:54:45.872264Z",
     "shell.execute_reply.started": "2021-05-27T10:54:45.861419Z"
    }
   },
   "outputs": [],
   "source": [
    "def compute_predictive(Xnew, w_posterior_mu, w_posterior_Sigma, sigma2noise):\n",
    "    y_posterior_mu = Xnew@w_posterior_mu\n",
    "    #y_posterior_Sigma = sigma2noise + Xnew@w_posterior_Sigma@Xnew.T\n",
    "    return y_posterior_mu #,y_posterior_Sigma"
   ]
  },
  {
   "cell_type": "markdown",
   "metadata": {},
   "source": [
    "## 1B"
   ]
  },
  {
   "cell_type": "markdown",
   "metadata": {},
   "source": [
    "We first need to transform the dataframes into numpy arrays in order to be able to compute the posterior.\n",
    "The input will then be in the right format to apply linear regression as for each input point (represented on a row of the array), the features are in different columns."
   ]
  },
  {
   "cell_type": "code",
   "execution_count": 12,
   "metadata": {
    "execution": {
     "iopub.execute_input": "2021-05-27T10:54:45.875444Z",
     "iopub.status.busy": "2021-05-27T10:54:45.874951Z",
     "iopub.status.idle": "2021-05-27T10:54:45.886419Z",
     "shell.execute_reply": "2021-05-27T10:54:45.885020Z",
     "shell.execute_reply.started": "2021-05-27T10:54:45.875405Z"
    }
   },
   "outputs": [],
   "source": [
    "X_train = X_train.to_numpy()\n",
    "y_train = y_train_df.to_numpy()"
   ]
  },
  {
   "cell_type": "markdown",
   "metadata": {},
   "source": [
    "# 1C"
   ]
  },
  {
   "cell_type": "code",
   "execution_count": 13,
   "metadata": {
    "execution": {
     "iopub.execute_input": "2021-05-27T10:54:45.889873Z",
     "iopub.status.busy": "2021-05-27T10:54:45.889402Z",
     "iopub.status.idle": "2021-05-27T10:54:46.167750Z",
     "shell.execute_reply": "2021-05-27T10:54:46.166519Z",
     "shell.execute_reply.started": "2021-05-27T10:54:45.889838Z"
    }
   },
   "outputs": [],
   "source": [
    "sigma2noise = 1\n",
    "sigma2priorweights = 1\n",
    "w_posterior_mu, w_posterior_Sigma = compute_posterior(X_train, y_train, sigma2priorweights, sigma2noise)\n"
   ]
  },
  {
   "cell_type": "code",
   "execution_count": 14,
   "metadata": {
    "execution": {
     "iopub.execute_input": "2021-05-27T10:54:46.171405Z",
     "iopub.status.busy": "2021-05-27T10:54:46.170502Z",
     "iopub.status.idle": "2021-05-27T10:54:46.179549Z",
     "shell.execute_reply": "2021-05-27T10:54:46.178371Z",
     "shell.execute_reply.started": "2021-05-27T10:54:46.171346Z"
    }
   },
   "outputs": [
    {
     "name": "stdout",
     "output_type": "stream",
     "text": [
      "[[ 1.08168387e-06  2.04199094e-09 -7.83109906e-09 ... -1.13698658e-08\n",
      "   7.13138344e-09 -2.58127466e-09]\n",
      " [ 2.04199094e-09  6.13091896e-07 -1.97418983e-09 ...  1.93513182e-08\n",
      "   3.72479156e-09 -3.22587927e-10]\n",
      " [-7.83109906e-09 -1.97418983e-09  1.43915291e-06 ...  1.77215026e-08\n",
      "   2.96181137e-09 -2.37691051e-09]\n",
      " ...\n",
      " [-1.13698658e-08  1.93513182e-08  1.77215026e-08 ...  1.17772909e-05\n",
      "  -8.19464307e-09 -6.46639263e-10]\n",
      " [ 7.13138344e-09  3.72479156e-09  2.96181137e-09 ... -8.19464307e-09\n",
      "   1.10035885e-06  1.58767682e-09]\n",
      " [-2.58127466e-09 -3.22587927e-10 -2.37691051e-09 ... -6.46639263e-10\n",
      "   1.58767682e-09  9.15870342e-08]]\n"
     ]
    }
   ],
   "source": [
    "print(w_posterior_Sigma)"
   ]
  },
  {
   "cell_type": "markdown",
   "metadata": {},
   "source": [
    "The variance of the posterior characterizes the dispersion of the parameter. The low values show that the uncertainty on the model parameter is small. The larger values on the diagonal compared to the values in the rest of the covariance matrix strenghtens the previous assumption of uncorrelated features."
   ]
  },
  {
   "cell_type": "markdown",
   "metadata": {},
   "source": [
    "# 1D"
   ]
  },
  {
   "cell_type": "markdown",
   "metadata": {},
   "source": [
    "The predicted outputs are floats between 0 and 1. Therefore, in order to classify the predictions into two different classes, one has to find the threshold dividing the predictions. If the threshold value is 0.5, the predictions are therefore classified accordingly to their distance to the labels. Therefore a prediction of 0.3 is closer to 0 and will be classified as such."
   ]
  },
  {
   "cell_type": "code",
   "execution_count": 15,
   "metadata": {
    "execution": {
     "iopub.execute_input": "2021-05-27T10:54:46.182712Z",
     "iopub.status.busy": "2021-05-27T10:54:46.181793Z",
     "iopub.status.idle": "2021-05-27T10:54:46.219029Z",
     "shell.execute_reply": "2021-05-27T10:54:46.217846Z",
     "shell.execute_reply.started": "2021-05-27T10:54:46.182651Z"
    }
   },
   "outputs": [],
   "source": [
    "threshold = 0.5\n",
    "y_posterior_mu = compute_predictive(X_test, w_posterior_mu, w_posterior_Sigma, sigma2noise) \n",
    "y_pred = np.array(y_posterior_mu > threshold).astype(int)"
   ]
  },
  {
   "cell_type": "code",
   "execution_count": 16,
   "metadata": {
    "execution": {
     "iopub.execute_input": "2021-05-27T10:54:46.221842Z",
     "iopub.status.busy": "2021-05-27T10:54:46.220982Z",
     "iopub.status.idle": "2021-05-27T10:54:46.404038Z",
     "shell.execute_reply": "2021-05-27T10:54:46.403194Z",
     "shell.execute_reply.started": "2021-05-27T10:54:46.221785Z"
    }
   },
   "outputs": [
    {
     "name": "stdout",
     "output_type": "stream",
     "text": [
      "[[90003    26]\n",
      " [ 9710   261]]\n"
     ]
    }
   ],
   "source": [
    "from sklearn.metrics import confusion_matrix, accuracy_score\n",
    "y_test = y_test_df.to_numpy()\n",
    "cm_linear_regression = confusion_matrix(y_test, y_pred)\n",
    "print(cm_linear_regression)"
   ]
  },
  {
   "cell_type": "markdown",
   "metadata": {},
   "source": [
    "--> From the confusion matrix, we can see that the majority of the errors come from data labelled as 1 but classified as 0. (threshold = 0.5)"
   ]
  },
  {
   "cell_type": "code",
   "execution_count": 17,
   "metadata": {
    "execution": {
     "iopub.execute_input": "2021-05-27T10:54:46.406072Z",
     "iopub.status.busy": "2021-05-27T10:54:46.405468Z",
     "iopub.status.idle": "2021-05-27T10:54:46.419908Z",
     "shell.execute_reply": "2021-05-27T10:54:46.418635Z",
     "shell.execute_reply.started": "2021-05-27T10:54:46.406023Z"
    }
   },
   "outputs": [
    {
     "name": "stdout",
     "output_type": "stream",
     "text": [
      "Accuracy of linear regression : 0.90264\n"
     ]
    }
   ],
   "source": [
    "accuracy_linear_regression = accuracy_score(y_test, y_pred)\n",
    "print('Accuracy of linear regression : {}'.format(accuracy_linear_regression))\n",
    "error_rate_linear_regression = 1 - accuracy_linear_regression"
   ]
  },
  {
   "cell_type": "markdown",
   "metadata": {},
   "source": [
    "--> We obtain a 90% accuracy (which is the same accuracy than if all the data was predicted as 0). This accuracy remains around 90% with a threshold from 0.3 to 1 (at 1 all the labels are classified as 0 thus the 90% accuracy)."
   ]
  },
  {
   "cell_type": "markdown",
   "metadata": {},
   "source": [
    "# Logistic Regression"
   ]
  },
  {
   "cell_type": "markdown",
   "metadata": {},
   "source": [
    "## 2A : Markov Chain Monte Carlo"
   ]
  },
  {
   "cell_type": "code",
   "execution_count": 18,
   "metadata": {
    "execution": {
     "iopub.execute_input": "2021-05-27T10:54:46.423382Z",
     "iopub.status.busy": "2021-05-27T10:54:46.423068Z",
     "iopub.status.idle": "2021-05-27T10:54:47.528900Z",
     "shell.execute_reply": "2021-05-27T10:54:47.527961Z",
     "shell.execute_reply.started": "2021-05-27T10:54:46.423351Z"
    }
   },
   "outputs": [],
   "source": [
    "import torch\n",
    "def set_seed(seed: int=0):\n",
    "    np.random.seed(seed)\n",
    "    torch.manual_seed(seed)"
   ]
  },
  {
   "cell_type": "code",
   "execution_count": 19,
   "metadata": {
    "execution": {
     "iopub.execute_input": "2021-05-27T10:54:47.530438Z",
     "iopub.status.busy": "2021-05-27T10:54:47.530149Z",
     "iopub.status.idle": "2021-05-27T10:54:47.537241Z",
     "shell.execute_reply": "2021-05-27T10:54:47.534557Z",
     "shell.execute_reply.started": "2021-05-27T10:54:47.530409Z"
    }
   },
   "outputs": [],
   "source": [
    "def logistic(z):\n",
    "    return 1/(1+np.exp(-z))"
   ]
  },
  {
   "cell_type": "code",
   "execution_count": 20,
   "metadata": {
    "execution": {
     "iopub.execute_input": "2021-05-27T10:54:47.538962Z",
     "iopub.status.busy": "2021-05-27T10:54:47.538647Z",
     "iopub.status.idle": "2021-05-27T10:54:47.549885Z",
     "shell.execute_reply": "2021-05-27T10:54:47.548648Z",
     "shell.execute_reply.started": "2021-05-27T10:54:47.538911Z"
    }
   },
   "outputs": [],
   "source": [
    "class BernoulliLikelihood():\n",
    "    def logdensity(self, y, p):\n",
    "        return y*np.log(p) + (1-y)*np.log(1-p)\n",
    "\n",
    "class NormalPrior():\n",
    "    def __init__(self, sigma2x):\n",
    "        self.sigma2x = sigma2x\n",
    "        \n",
    "    def logdensity(self, x):\n",
    "        return -1/(2*self.sigma2x)*x.T@x"
   ]
  },
  {
   "cell_type": "code",
   "execution_count": 21,
   "metadata": {
    "execution": {
     "iopub.execute_input": "2021-05-27T10:54:47.551721Z",
     "iopub.status.busy": "2021-05-27T10:54:47.551398Z",
     "iopub.status.idle": "2021-05-27T10:54:47.564307Z",
     "shell.execute_reply": "2021-05-27T10:54:47.563096Z",
     "shell.execute_reply.started": "2021-05-27T10:54:47.551693Z"
    }
   },
   "outputs": [],
   "source": [
    "class MHSampler():\n",
    "    @property\n",
    "    def samples(self):\n",
    "        return self._samples\n",
    "    @samples.getter    \n",
    "    def samples(self):\n",
    "        return np.asarray(self._samples)\n",
    "    \n",
    "    def __init__(self, initial_sample, likelihood, prior):\n",
    "        self.likelihood = likelihood\n",
    "        self.prior = prior\n",
    "        self._samples = [initial_sample]\n",
    "        self.acceptance_rate = 0\n",
    "        \n",
    "        \n",
    "    def unnormalized_logposterior(self, w, X, y):\n",
    "        log_likelihood = self.likelihood.logdensity(y, logistic((w.T@X)))\n",
    "        log_prior = self.prior.logdensity(w)\n",
    "        return (log_likelihood + log_prior)[0][0]\n",
    "\n",
    "    def step(self, X, y, step_proposal):\n",
    "        w_prev = self._samples[-1]\n",
    "        w_proposal = np.random.randn(200, 1)*step_proposal + w_prev \n",
    "        \n",
    "        log_gw_prev = self.unnormalized_logposterior(w_prev, X, y)\n",
    "        log_gw_proposal = self.unnormalized_logposterior(w_proposal, X, y)\n",
    "        acceptance_ratio = np.exp(log_gw_proposal - log_gw_prev) ###TO COMPLETE\n",
    "        \n",
    "        if acceptance_ratio >=1:\n",
    "            self._samples.append(w_proposal)\n",
    "        else:\n",
    "            u = np.random.uniform(0,1)\n",
    "            if u<=acceptance_ratio:\n",
    "                self._samples.append(w_proposal)\n",
    "                self.acceptance_rate += 1\n",
    "            else:\n",
    "                self._samples.append(w_prev)\n",
    "        return min(acceptance_ratio, 1)"
   ]
  },
  {
   "cell_type": "code",
   "execution_count": 22,
   "metadata": {
    "execution": {
     "iopub.execute_input": "2021-05-27T10:54:47.566557Z",
     "iopub.status.busy": "2021-05-27T10:54:47.566115Z",
     "iopub.status.idle": "2021-05-27T10:55:41.207540Z",
     "shell.execute_reply": "2021-05-27T10:55:41.206314Z",
     "shell.execute_reply.started": "2021-05-27T10:54:47.566506Z"
    }
   },
   "outputs": [
    {
     "name": "stderr",
     "output_type": "stream",
     "text": [
      "/opt/conda/lib/python3.7/site-packages/ipykernel_launcher.py:3: RuntimeWarning: divide by zero encountered in log\n",
      "  This is separate from the ipykernel package so we can avoid doing imports until\n",
      "/opt/conda/lib/python3.7/site-packages/ipykernel_launcher.py:3: RuntimeWarning: invalid value encountered in multiply\n",
      "  This is separate from the ipykernel package so we can avoid doing imports until\n",
      "/opt/conda/lib/python3.7/site-packages/ipykernel_launcher.py:27: RuntimeWarning: invalid value encountered in double_scalars\n"
     ]
    }
   ],
   "source": [
    "set_seed()\n",
    "\n",
    "number_steps = 1000\n",
    "step_size = 10**(-1)\n",
    "likelihood = BernoulliLikelihood()\n",
    "prior = NormalPrior(1)\n",
    "\n",
    "starting_point = np.random.randn(200, 1)\n",
    "sampler = MHSampler(starting_point, likelihood, prior)\n",
    "for _ in range(number_steps):\n",
    "        sampler.step(X_train.T, y_train, step_size)\n",
    "samples_MCMC = sampler.samples"
   ]
  },
  {
   "cell_type": "markdown",
   "metadata": {},
   "source": [
    "## 2B : Variational Inference"
   ]
  },
  {
   "cell_type": "markdown",
   "metadata": {},
   "source": [
    "To use the variational inference algorithm we need to normalize the features of the inputs. As a matter of fact, if the features aren't noramlized, the gradients can either vanish or explode over cascaded layers of a neural network."
   ]
  },
  {
   "cell_type": "code",
   "execution_count": 23,
   "metadata": {
    "execution": {
     "iopub.execute_input": "2021-05-27T10:55:41.216284Z",
     "iopub.status.busy": "2021-05-27T10:55:41.213241Z",
     "iopub.status.idle": "2021-05-27T10:55:42.736052Z",
     "shell.execute_reply": "2021-05-27T10:55:42.735238Z",
     "shell.execute_reply.started": "2021-05-27T10:55:41.216196Z"
    }
   },
   "outputs": [],
   "source": [
    "from sklearn.preprocessing import StandardScaler\n",
    "X_scaler = StandardScaler()\n",
    "X_scaler.fit(X_df)\n",
    "X = X_scaler.transform(X_df)\n",
    "\n",
    "from sklearn.model_selection import train_test_split\n",
    "X_train_norm, X_test_norm, y_train_df_norm, y_test_df_norm = train_test_split(\n",
    "    X, y_df, random_state=1, test_size=0.5)\n",
    "y_train_norm = y_train_df_norm.to_numpy()"
   ]
  },
  {
   "cell_type": "code",
   "execution_count": 24,
   "metadata": {
    "execution": {
     "iopub.execute_input": "2021-05-27T10:55:42.737538Z",
     "iopub.status.busy": "2021-05-27T10:55:42.737147Z",
     "iopub.status.idle": "2021-05-27T10:55:42.818981Z",
     "shell.execute_reply": "2021-05-27T10:55:42.818097Z",
     "shell.execute_reply.started": "2021-05-27T10:55:42.737499Z"
    }
   },
   "outputs": [],
   "source": [
    "import numpy as np\n",
    "import scipy as scipy\n",
    "import scipy.spatial\n",
    "import time \n",
    "\n",
    "import matplotlib \n",
    "import matplotlib.font_manager\n",
    "import matplotlib.pyplot as plt\n",
    "import seaborn as sns\n",
    "\n",
    "import warnings\n",
    "import pandas as pd\n",
    "import torch\n",
    "import torch.nn as nn\n",
    "\n",
    "warnings.filterwarnings(\"ignore\")\n",
    "def set_seed(seed: int=0):\n",
    "    np.random.seed(seed)\n",
    "    torch.manual_seed(seed)\n",
    "    \n",
    "def args_as_tensors(*index):\n",
    "    \"\"\"A simple decorator to convert numpy arrays to torch tensors\"\"\"\n",
    "    def decorator(method):\n",
    "        def wrapper(*args, **kwargs):\n",
    "            converted_args = [torch.tensor(a).float() \n",
    "                              if i in index and type(a) is np.ndarray else a \n",
    "                              for i, a in enumerate(args)]\n",
    "            return method(*converted_args, **kwargs)\n",
    "        return wrapper  \n",
    "    return decorator"
   ]
  },
  {
   "cell_type": "code",
   "execution_count": 25,
   "metadata": {
    "execution": {
     "iopub.execute_input": "2021-05-27T10:55:42.820741Z",
     "iopub.status.busy": "2021-05-27T10:55:42.820339Z",
     "iopub.status.idle": "2021-05-27T10:55:42.826360Z",
     "shell.execute_reply": "2021-05-27T10:55:42.825222Z",
     "shell.execute_reply.started": "2021-05-27T10:55:42.820701Z"
    }
   },
   "outputs": [],
   "source": [
    "jitter = 1e-10\n",
    "\n",
    "class Distribution(nn.Module):  \n",
    "    pass\n",
    "\n",
    "class Bernoulli(Distribution):\n",
    "    @args_as_tensors(1, 2)\n",
    "    def logdensity(self, y, p):\n",
    "        return y*torch.log(p+jitter) + (1-y)*torch.log(1-p+jitter)"
   ]
  },
  {
   "cell_type": "code",
   "execution_count": 26,
   "metadata": {
    "execution": {
     "iopub.execute_input": "2021-05-27T10:55:42.827903Z",
     "iopub.status.busy": "2021-05-27T10:55:42.827632Z",
     "iopub.status.idle": "2021-05-27T10:55:42.839850Z",
     "shell.execute_reply": "2021-05-27T10:55:42.839170Z",
     "shell.execute_reply.started": "2021-05-27T10:55:42.827877Z"
    }
   },
   "outputs": [],
   "source": [
    "class NormalDiagonal(Distribution):\n",
    "    @property\n",
    "    def var(self):\n",
    "        return self.logvar.exp()\n",
    "    \n",
    "    def extra_repr(self):\n",
    "        return 'train=%s' % self.train\n",
    "    \n",
    "    def __init__(self, d, train=True):\n",
    "        super(NormalDiagonal, self).__init__()\n",
    "        self.train = train\n",
    "        self.d = d\n",
    "        self.mean = nn.Parameter(torch.zeros(d), requires_grad=train)\n",
    "        self.logvar = nn.Parameter(torch.zeros(d), requires_grad=train)\n",
    "    \n",
    "    def sample(self, n=1):\n",
    "        eps = torch.randn(n,self.d,requires_grad=self.train) \n",
    "        samples = self.mean + eps*(torch.sqrt((self.var)))\n",
    "        return samples"
   ]
  },
  {
   "cell_type": "code",
   "execution_count": 27,
   "metadata": {
    "execution": {
     "iopub.execute_input": "2021-05-27T10:55:42.841631Z",
     "iopub.status.busy": "2021-05-27T10:55:42.841097Z",
     "iopub.status.idle": "2021-05-27T10:55:42.857969Z",
     "shell.execute_reply": "2021-05-27T10:55:42.857236Z",
     "shell.execute_reply.started": "2021-05-27T10:55:42.841586Z"
    }
   },
   "outputs": [],
   "source": [
    "from functools import total_ordering\n",
    "\n",
    "_KL_REGISTRY = {}  # Source of truth mapping a few general (type, type) pairs to functions.\n",
    "_KL_MEMOIZE = {}  # Memoized version mapping many specific (type, type) pairs to functions.\n",
    "\n",
    "@total_ordering\n",
    "class _Match(object):\n",
    "    __slots__ = ['types']\n",
    "\n",
    "    def __init__(self, *types):\n",
    "        self.types = types\n",
    "\n",
    "    def __eq__(self, other):\n",
    "        return self.types == other.types\n",
    "\n",
    "    def __le__(self, other):\n",
    "        for x, y in zip(self.types, other.types):\n",
    "            if not issubclass(x, y):\n",
    "                return False\n",
    "            if x is not y:\n",
    "                break\n",
    "        return True\n",
    "\n",
    "def _dispatch_kl(type_q, type_p):\n",
    "    matches = [(super_q, super_p) for super_q, super_p in _KL_REGISTRY\n",
    "               if issubclass(type_q, super_q) and issubclass(type_p, super_p)]\n",
    "    if not matches:\n",
    "        return NotImplemented\n",
    "    left_q, left_p = min(_Match(*m) for m in matches).types\n",
    "    right_p, right_q = min(_Match(*reversed(m)) for m in matches).types\n",
    "    left_fun = _KL_REGISTRY[left_q, left_p]\n",
    "    right_fun = _KL_REGISTRY[right_q, right_p]\n",
    "    if left_fun is not right_fun:\n",
    "        logger.warning('Ambiguous kl_divergence({}, {}). Please register_kl({}, {})'.format(\n",
    "            type_q.__name__, type_p.__name__, left_q.__name__, right_p.__name__))\n",
    "    return left_fun\n",
    "\n",
    "\n",
    "def register_kl(type_q, type_p):\n",
    "    \"\"\"\n",
    "    Decorator to register a pairwise function with kl_divergence.\n",
    "    Usage:\n",
    "\n",
    "        @register_kl(Normal, Normal)\n",
    "        def kl_normal_normal(q, p):\n",
    "            # insert implementation here\n",
    "    \"\"\"\n",
    "    if not isinstance(type_q, type) and issubclass(type_q, BaseDistribution):\n",
    "        raise TypeError('Expected type_q to be a Distribution subclass but got {}'.format(type_q))\n",
    "    if not isinstance(type_p, type) and issubclass(type_p, BaseDistribution):\n",
    "        raise TypeError('Expected type_p to be a Distribution subclass but got {}'.format(type_p))\n",
    "    \n",
    "    def decorator(fun):\n",
    "        _KL_REGISTRY[type_q, type_p] = fun\n",
    "        _KL_MEMOIZE.clear()  # reset since lookup order may have changed\n",
    "        print('KL divergence between \\'%s\\' and \\'%s\\' registered.' % (type_q.__name__, type_p.__name__))\n",
    "        return fun\n",
    "    return decorator\n",
    "\n",
    "\n",
    "def kl_divergence(q, p):\n",
    "    r\"\"\"Compute Kullback-Leibler divergence KL(p|q) between two distributions.\"\"\"\n",
    "    try:\n",
    "        fun = _KL_MEMOIZE[type(q), type(p)]\n",
    "    except KeyError:\n",
    "        fun = _dispatch_kl(type(q), type(p))\n",
    "        _KL_MEMOIZE[type(q), type(p)] = fun\n",
    "    if fun is NotImplemented:\n",
    "        raise NotImplementedError('KL divergence for pair %s - %s not registered' % (type(q).__name__,\n",
    "                                                                                     type(p).__name__))\n",
    "    return fun(q, p)"
   ]
  },
  {
   "cell_type": "code",
   "execution_count": 28,
   "metadata": {
    "execution": {
     "iopub.execute_input": "2021-05-27T10:55:42.862382Z",
     "iopub.status.busy": "2021-05-27T10:55:42.861928Z",
     "iopub.status.idle": "2021-05-27T10:55:42.876949Z",
     "shell.execute_reply": "2021-05-27T10:55:42.875976Z",
     "shell.execute_reply.started": "2021-05-27T10:55:42.862347Z"
    }
   },
   "outputs": [
    {
     "name": "stdout",
     "output_type": "stream",
     "text": [
      "KL divergence between 'NormalDiagonal' and 'NormalDiagonal' registered.\n"
     ]
    }
   ],
   "source": [
    "@register_kl(NormalDiagonal, NormalDiagonal)\n",
    "def _normaldiagonal_normaldiagonal(q, p):\n",
    "    kl = (1/2) * torch.sum(p.logvar - q.logvar + (q.var + (q.mean - p.mean)**2)/p.var - 1)\n",
    "    return kl"
   ]
  },
  {
   "cell_type": "code",
   "execution_count": 29,
   "metadata": {
    "execution": {
     "iopub.execute_input": "2021-05-27T10:55:42.878995Z",
     "iopub.status.busy": "2021-05-27T10:55:42.878673Z",
     "iopub.status.idle": "2021-05-27T10:55:42.890499Z",
     "shell.execute_reply": "2021-05-27T10:55:42.889397Z",
     "shell.execute_reply.started": "2021-05-27T10:55:42.878967Z"
    }
   },
   "outputs": [],
   "source": [
    "def logistic_tensor(z):\n",
    "    return 1/(1 + torch.exp(-z))\n",
    "\n",
    "\n",
    "class LogisticRegression(nn.Module):\n",
    "    def __init__(self, input_dim):\n",
    "        super(LogisticRegression, self).__init__()\n",
    "        \n",
    "        self.prior_w = NormalDiagonal(input_dim)## *** TO COMPLETE *** ##\n",
    "        self.posterior_w = NormalDiagonal(input_dim) ## *** TO COMPLETE *** ##\n",
    "        \n",
    "    @args_as_tensors(1)\n",
    "    def predict_y(self, X, mc_samples=1):\n",
    "        w_samples = self.posterior_w.sample(mc_samples)\n",
    "        w_samples=torch.unsqueeze(w_samples, dim=2)\n",
    "        y_samples = logistic_tensor(X @ w_samples)\n",
    "        \n",
    "        return y_samples"
   ]
  },
  {
   "cell_type": "code",
   "execution_count": 30,
   "metadata": {
    "execution": {
     "iopub.execute_input": "2021-05-27T10:55:42.892485Z",
     "iopub.status.busy": "2021-05-27T10:55:42.892169Z",
     "iopub.status.idle": "2021-05-27T10:55:42.905906Z",
     "shell.execute_reply": "2021-05-27T10:55:42.904941Z",
     "shell.execute_reply.started": "2021-05-27T10:55:42.892455Z"
    }
   },
   "outputs": [],
   "source": [
    "class VariationalObjective(nn.Module):    \n",
    "    def __init__(self, model, likelihood, N, mc_samples):\n",
    "        super(VariationalObjective, self).__init__()\n",
    "        self.N = N\n",
    "        self.model = model\n",
    "        self.likelihood = likelihood\n",
    "        self.mc_samples = mc_samples\n",
    "        \n",
    "    def expected_loglikelihood(self, Xbatch, ybatch):\n",
    "        ypred = model.predict_y(Xbatch, self.mc_samples)\n",
    "        logliks = self.likelihood.logdensity(ybatch, ypred)\n",
    "        return - (self.N/(self.mc_samples*Xbatch.shape[0]))*torch.sum(logliks)\n",
    "\n",
    "    \n",
    "    def kl(self):\n",
    "        return kl_divergence(self.model.posterior_w, self.model.prior_w) \n",
    "    \n",
    "    def compute_objective(self, Xbatch, ybatch):\n",
    "        return self.expected_loglikelihood(Xbatch, ybatch) + self.kl() "
   ]
  },
  {
   "cell_type": "code",
   "execution_count": 31,
   "metadata": {
    "execution": {
     "iopub.execute_input": "2021-05-27T10:55:42.908163Z",
     "iopub.status.busy": "2021-05-27T10:55:42.907431Z",
     "iopub.status.idle": "2021-05-27T10:55:42.924968Z",
     "shell.execute_reply": "2021-05-27T10:55:42.924115Z",
     "shell.execute_reply.started": "2021-05-27T10:55:42.908110Z"
    }
   },
   "outputs": [],
   "source": [
    "class Dataset():\n",
    "    def __init__(self, X, y, minibatch_size):\n",
    "        self.X = X\n",
    "        self.y = y \n",
    "        self.minibatch_size = min(minibatch_size, len(self.X))\n",
    "        self._i = 0  \n",
    "    def next_batch(self):  \n",
    "        if len(self.X) <= self._i + self.minibatch_size:\n",
    "            shuffle = np.random.permutation(len(self.X))\n",
    "            self.X = self.X[shuffle]\n",
    "            self.y = self.y[shuffle]\n",
    "            Xbatch = self.X[self._i:]\n",
    "            ybatch = self.y[self._i:]\n",
    "            self._i = 0\n",
    "            return Xbatch, ybatch\n",
    "\n",
    "        Xbatch = self.X[self._i:self._i + self.minibatch_size]\n",
    "        ybatch = self.y[self._i:self._i + self.minibatch_size]\n",
    "        self._i += self.minibatch_size\n",
    "        return Xbatch, ybatch"
   ]
  },
  {
   "cell_type": "code",
   "execution_count": 32,
   "metadata": {
    "execution": {
     "iopub.execute_input": "2021-05-27T10:55:42.927140Z",
     "iopub.status.busy": "2021-05-27T10:55:42.926434Z",
     "iopub.status.idle": "2021-05-27T10:55:42.941079Z",
     "shell.execute_reply": "2021-05-27T10:55:42.940046Z",
     "shell.execute_reply.started": "2021-05-27T10:55:42.927032Z"
    }
   },
   "outputs": [],
   "source": [
    "class Summary:\n",
    "    @property\n",
    "    def data(self):\n",
    "        data = pd.DataFrame(self._data, columns=['step', self.name, 'time'])\n",
    "        data.time = data.time - data.time.iloc[0]\n",
    "        return data\n",
    "    \n",
    "    def __init__(self, name):\n",
    "        \"\"\"A simple class to store some values during optimization\"\"\"\n",
    "        self.name = str(name)\n",
    "        self._data = []\n",
    "    \n",
    "    def append(self, step, value):\n",
    "        self._data.append([step, float(value.detach().numpy()), time.time()])"
   ]
  },
  {
   "cell_type": "code",
   "execution_count": 33,
   "metadata": {
    "execution": {
     "iopub.execute_input": "2021-05-27T10:55:42.943632Z",
     "iopub.status.busy": "2021-05-27T10:55:42.942898Z",
     "iopub.status.idle": "2021-05-27T10:57:19.337096Z",
     "shell.execute_reply": "2021-05-27T10:57:19.336165Z",
     "shell.execute_reply.started": "2021-05-27T10:55:42.943499Z"
    }
   },
   "outputs": [
    {
     "name": "stdout",
     "output_type": "stream",
     "text": [
      "Epoch [999/1000], Loss: 31790.1445\n"
     ]
    }
   ],
   "source": [
    "set_seed()\n",
    "lr = 10**(-5)\n",
    "batch_size = 100\n",
    "\n",
    "dataset = Dataset(X_train_norm, y_train_norm, minibatch_size = batch_size)\n",
    "likelihood = Bernoulli()\n",
    "model = LogisticRegression(len(X_train_norm[0]))\n",
    "\n",
    "nelbo = VariationalObjective(model, likelihood, len(X_train_norm[0]), mc_samples = 1000)\n",
    "nelbo_summary = Summary('nelbo')\n",
    "nll_summary = Summary('expected_loglik')\n",
    "kl_summary = Summary('kl')\n",
    "from IPython.display import clear_output\n",
    "optim = torch.optim.SGD(filter(lambda p: p.requires_grad,model.parameters()), lr = lr) #SGD\n",
    "num_iterations = 1000\n",
    "\n",
    "for step in range(num_iterations):\n",
    "    optim.zero_grad()\n",
    "    Xbatch, ybatch = dataset.next_batch()\n",
    "    loss = nelbo.compute_objective(Xbatch, ybatch)\n",
    "\n",
    "    nelbo_summary.append(step, loss)\n",
    "    nll_summary.append(step, loss - nelbo.kl())\n",
    "    kl_summary.append(step, nelbo.kl())\n",
    "\n",
    "    loss.backward()\n",
    "    optim.step()\n",
    "    clear_output()\n",
    "    print('Epoch [{}/{}], Loss: {:.4f}'.format(step, num_iterations, loss.item()))\n"
   ]
  },
  {
   "cell_type": "markdown",
   "metadata": {},
   "source": [
    "## 2C : Predictive distribution"
   ]
  },
  {
   "cell_type": "markdown",
   "metadata": {},
   "source": [
    "#### Prediction for MCMC"
   ]
  },
  {
   "cell_type": "code",
   "execution_count": 34,
   "metadata": {
    "execution": {
     "iopub.execute_input": "2021-05-27T10:57:19.339371Z",
     "iopub.status.busy": "2021-05-27T10:57:19.338893Z",
     "iopub.status.idle": "2021-05-27T10:57:19.345414Z",
     "shell.execute_reply": "2021-05-27T10:57:19.344069Z",
     "shell.execute_reply.started": "2021-05-27T10:57:19.339323Z"
    }
   },
   "outputs": [],
   "source": [
    "def predict(x_new, w_samples):\n",
    "    p = 0\n",
    "    for w in w_samples:\n",
    "        p += logistic(w.T @ x_new)\n",
    "    return p / len(w_samples)"
   ]
  },
  {
   "cell_type": "code",
   "execution_count": 35,
   "metadata": {
    "execution": {
     "iopub.execute_input": "2021-05-27T10:57:19.347741Z",
     "iopub.status.busy": "2021-05-27T10:57:19.347196Z",
     "iopub.status.idle": "2021-05-27T10:58:00.949869Z",
     "shell.execute_reply": "2021-05-27T10:58:00.948598Z",
     "shell.execute_reply.started": "2021-05-27T10:57:19.347695Z"
    }
   },
   "outputs": [],
   "source": [
    "predictions_mcmc = np.array(predict(X_test.T, samples_MCMC))"
   ]
  },
  {
   "cell_type": "code",
   "execution_count": 36,
   "metadata": {
    "execution": {
     "iopub.execute_input": "2021-05-27T10:58:00.956015Z",
     "iopub.status.busy": "2021-05-27T10:58:00.955502Z",
     "iopub.status.idle": "2021-05-27T10:58:01.939124Z",
     "shell.execute_reply": "2021-05-27T10:58:01.938017Z",
     "shell.execute_reply.started": "2021-05-27T10:58:00.955953Z"
    }
   },
   "outputs": [
    {
     "name": "stdout",
     "output_type": "stream",
     "text": [
      "Mean loglikelihood for MCMC : -0.6189762133470926\n",
      "Error rate for MCMC : 0.30042\n",
      "[[66838 23191]\n",
      " [ 6851  3120]]\n"
     ]
    }
   ],
   "source": [
    "log_likelihood_mcmc = BernoulliLikelihood().logdensity(y_test, predictions_mcmc[0])\n",
    "log_likelihood_mcmc_no_nan = [x for x in log_likelihood_mcmc if (~np.isnan(x) and ~np.isinf(x))]\n",
    "mean_log_likelihood_mcmc = np.mean(log_likelihood_mcmc_no_nan)\n",
    "print('Mean loglikelihood for MCMC : {}'.format(mean_log_likelihood_mcmc))\n",
    "\n",
    "y_pred_mcmc = np.array(predictions_mcmc > 0.5).astype(int)\n",
    "acc_mcmc = accuracy_score(y_test, y_pred_mcmc[0])\n",
    "error_rate_mcmc = 1 - acc_mcmc\n",
    "print('Error rate for MCMC : {}'.format(error_rate_mcmc))\n",
    "\n",
    "cm_mcmc = confusion_matrix(y_test, y_pred_mcmc[0])\n",
    "print(cm_mcmc)"
   ]
  },
  {
   "cell_type": "markdown",
   "metadata": {},
   "source": [
    "#### Predictions for variational inference"
   ]
  },
  {
   "cell_type": "code",
   "execution_count": 37,
   "metadata": {
    "execution": {
     "iopub.execute_input": "2021-05-27T10:58:01.941138Z",
     "iopub.status.busy": "2021-05-27T10:58:01.940704Z",
     "iopub.status.idle": "2021-05-27T10:58:02.104735Z",
     "shell.execute_reply": "2021-05-27T10:58:02.103624Z",
     "shell.execute_reply.started": "2021-05-27T10:58:01.941091Z"
    }
   },
   "outputs": [],
   "source": [
    "predictions_vi = model.predict_y(X_test_norm).detach().numpy()"
   ]
  },
  {
   "cell_type": "code",
   "execution_count": 38,
   "metadata": {
    "execution": {
     "iopub.execute_input": "2021-05-27T10:58:02.106779Z",
     "iopub.status.busy": "2021-05-27T10:58:02.106377Z",
     "iopub.status.idle": "2021-05-27T10:58:03.011139Z",
     "shell.execute_reply": "2021-05-27T10:58:03.009679Z",
     "shell.execute_reply.started": "2021-05-27T10:58:02.106736Z"
    }
   },
   "outputs": [
    {
     "name": "stdout",
     "output_type": "stream",
     "text": [
      "Mean loglikelihood for VI : -1.5140644311904907\n",
      "Error rate for VI : 0.49349\n",
      "[[45387 44642]\n",
      " [ 4707  5264]]\n"
     ]
    }
   ],
   "source": [
    "log_likelihood_vi = Bernoulli().logdensity(y_test, predictions_vi[0].T[0]).detach().numpy()\n",
    "log_likelihood_vi_no_nan = [x for x in log_likelihood_vi if (~np.isnan(x) and ~np.isinf(x))]\n",
    "mean_log_likelihood_vi = np.mean(log_likelihood_vi_no_nan)\n",
    "print('Mean loglikelihood for VI : {}'.format(mean_log_likelihood_vi))\n",
    "\n",
    "y_pred_vi = np.array(predictions_vi > 0.5).astype(int)\n",
    "acc_vi = accuracy_score(y_test, y_pred_vi[0])\n",
    "error_rate_vi = 1 - acc_vi\n",
    "print('Error rate for VI : {}'.format(error_rate_vi))\n",
    "\n",
    "cm_vi = confusion_matrix(y_test, y_pred_vi[0])\n",
    "print(cm_vi)"
   ]
  },
  {
   "cell_type": "markdown",
   "metadata": {
    "execution": {
     "iopub.execute_input": "2021-05-25T14:42:52.628978Z",
     "iopub.status.busy": "2021-05-25T14:42:52.628638Z",
     "iopub.status.idle": "2021-05-25T14:42:52.634758Z",
     "shell.execute_reply": "2021-05-25T14:42:52.633722Z",
     "shell.execute_reply.started": "2021-05-25T14:42:52.628948Z"
    }
   },
   "source": [
    "## 2D : Tuning of Metropolis Hastings"
   ]
  },
  {
   "cell_type": "code",
   "execution_count": 39,
   "metadata": {
    "execution": {
     "iopub.execute_input": "2021-05-27T10:58:03.012975Z",
     "iopub.status.busy": "2021-05-27T10:58:03.012616Z",
     "iopub.status.idle": "2021-05-27T11:01:08.269451Z",
     "shell.execute_reply": "2021-05-27T11:01:08.266051Z",
     "shell.execute_reply.started": "2021-05-27T10:58:03.012939Z"
    }
   },
   "outputs": [
    {
     "name": "stdout",
     "output_type": "stream",
     "text": [
      "0.1\n",
      "0.70931\n",
      "0.199\n",
      "0.01\n",
      "0.52143\n",
      "0.0\n"
     ]
    }
   ],
   "source": [
    "set_seed()\n",
    "\n",
    "number_steps = 1000\n",
    "step_size = [10**(-i) for i in range(1,3)]\n",
    "accuracy = []\n",
    "acceptance_rate = []\n",
    "\n",
    "for s in step_size:\n",
    "    likelihood = BernoulliLikelihood()\n",
    "    prior = NormalPrior(1)\n",
    "\n",
    "    starting_point = np.random.randn(200, 1)\n",
    "    sampler = MHSampler(starting_point, likelihood, prior)\n",
    "    \n",
    "    for _ in range(number_steps):\n",
    "        sampler.step(X_train.T, y_train, s)\n",
    "    ps = predict(X_test.T, sampler.samples[round(0.1 * number_steps):]) #burn-in of 10% of the samples\n",
    "    y_pred = np.array(ps > 0.5).astype(int)\n",
    "    acc = accuracy_score(y_test, y_pred[0])\n",
    "    accuracy.append(acc)\n",
    "    acceptance_rate.append(sampler.acceptance_rate/number_steps)\n",
    "    print(s)\n",
    "    print(acc)\n",
    "    print(sampler.acceptance_rate/number_steps)"
   ]
  },
  {
   "cell_type": "markdown",
   "metadata": {},
   "source": [
    "For 1000 samples\n",
    "\n",
    "<table>\n",
    "<tr>\n",
    "<th>Step size</th>\n",
    "<th>Accuracy</th>\n",
    "<th>Acceptance rate</th>\n",
    "</tr>\n",
    "    \n",
    "<tr>\n",
    "<td>0.0001</td>\n",
    "<td>0.88</td>\n",
    "<td>0.50</td>\n",
    "</tr>\n",
    "    \n",
    "<tr>\n",
    "<td>0.001</td>\n",
    "<td>0.88</td>\n",
    "<td>0.47</td>\n",
    "</tr>\n",
    "\n",
    "<tr>\n",
    "<td>0.01</td>\n",
    "<td>0.52</td>\n",
    "<td>0</td>\n",
    "</tr>\n",
    "\n",
    "<tr>\n",
    "<td>0.1</td>\n",
    "<td>0.70</td>\n",
    "<td>0.199</td>\n",
    "</tr>\n",
    "\n",
    "<tr>\n",
    "<td>0.2</td>\n",
    "<td>0.51</td>\n",
    "<td>0.167</td>\n",
    "</tr>\n",
    "    \n",
    "<tr>\n",
    "<td>0.3</td>\n",
    "<td>0.20</td>\n",
    "<td>0.092</td>\n",
    "</tr>\n",
    "    \n",
    "<tr>\n",
    "<td>0.4</td>\n",
    "<td>0.12</td>\n",
    "<td>0.001</td>\n",
    "</tr>\n",
    "</table>\n",
    "\n",
    "The step proposal determines the variance:\n",
    "- a low variance (small step size) will lead to highly correlated samples\n",
    "- a high variance (larger step size) will lead to a lower acceptance rate as many samples will be rejected as they don't belong to the aread of high density in the posterior space. As shown in the results, the acceptance rate decreases with the augmentation of the step size.\n",
    "\n",
    "The optimal acceptance rate for multi dimension distributions is believed to be equal to 0.234, which is coherent with the results obtained : the higher accuracy is achieved when the acceptance rate is close to this value.\n",
    "\n",
    "In order to ensure that samples are representative of samples of the posterior over model\n",
    "parameters, one can use the burn-in method. For a step size of 0.1 and 1000 samples, the accuracy is now 71% (instead of 70%). This small difference is due to the fact that if there are enough samples, the first samples coming from a random point will not matter."
   ]
  },
  {
   "cell_type": "markdown",
   "metadata": {
    "execution": {
     "iopub.execute_input": "2021-05-25T12:37:19.775439Z",
     "iopub.status.busy": "2021-05-25T12:37:19.774587Z",
     "iopub.status.idle": "2021-05-25T12:37:19.780085Z",
     "shell.execute_reply": "2021-05-25T12:37:19.778852Z",
     "shell.execute_reply.started": "2021-05-25T12:37:19.775385Z"
    }
   },
   "source": [
    "## 2E : Tuning of Variational Inference"
   ]
  },
  {
   "cell_type": "markdown",
   "metadata": {},
   "source": [
    "--> In order to tune the variational inference algorithm, a grid search was implemented on the learning rate and the minibatch size in order to find the optimal values."
   ]
  },
  {
   "cell_type": "code",
   "execution_count": 40,
   "metadata": {
    "execution": {
     "iopub.execute_input": "2021-05-27T11:01:08.272222Z",
     "iopub.status.busy": "2021-05-27T11:01:08.271688Z",
     "iopub.status.idle": "2021-05-27T11:07:35.063113Z",
     "shell.execute_reply": "2021-05-27T11:07:35.061570Z",
     "shell.execute_reply.started": "2021-05-27T11:01:08.272172Z"
    }
   },
   "outputs": [
    {
     "name": "stdout",
     "output_type": "stream",
     "text": [
      "Lr: 1e-07, Batch: 100, Epoch [999/1000], Loss: 111826.9844\n"
     ]
    }
   ],
   "source": [
    "set_seed()\n",
    "lr = [10**(-i) for i in range(5,8)]\n",
    "minibatch_size = [10**i for i in range(3)]\n",
    "accuracy = np.zeros((len(lr), len(minibatch_size)))\n",
    "\n",
    "for l in range(len(lr)):\n",
    "    for s in range(len(minibatch_size)):\n",
    "        \n",
    "        dataset = Dataset(X_train_norm, y_train, minibatch_size = minibatch_size[s])\n",
    "\n",
    "        likelihood = Bernoulli()\n",
    "        model = LogisticRegression(len(X_train[0]))\n",
    "\n",
    "        nelbo = VariationalObjective(model, likelihood, len(X_train_norm[0]), mc_samples = 1000)\n",
    "        nelbo_summary = Summary('nelbo')\n",
    "        nll_summary = Summary('expected_loglik')\n",
    "        kl_summary = Summary('kl')\n",
    "        from IPython.display import clear_output\n",
    "        #optim = torch.optim.SGD(filter(lambda p: p.requires_grad,model.parameters()), lr = lr[l])\n",
    "        #optim = torch.optim.Adam(filter(lambda p: p.requires_grad,model.parameters()), lr = lr[l])\n",
    "        optim = torch.optim.Adagrad(filter(lambda p: p.requires_grad,model.parameters()), lr = lr[l])\n",
    "        num_iterations = 1000\n",
    "\n",
    "        for step in range(num_iterations):\n",
    "            optim.zero_grad()\n",
    "            Xbatch, ybatch = dataset.next_batch()\n",
    "            loss = nelbo.compute_objective(Xbatch, ybatch)\n",
    "\n",
    "            nelbo_summary.append(step, loss)\n",
    "            nll_summary.append(step, loss - nelbo.kl())\n",
    "            kl_summary.append(step, nelbo.kl())\n",
    "\n",
    "            loss.backward()\n",
    "            optim.step()\n",
    "            clear_output()\n",
    "            print('Lr: {}, Batch: {}, Epoch [{}/{}], Loss: {:.4f}'.format(lr[l], minibatch_size[s], step, num_iterations, loss.item()))\n",
    "            \n",
    "        ypred = model.predict_y(X_test_norm).detach().numpy()[0].T[0]\n",
    "        y_pred = np.array(ypred > 0.5).astype(int)\n",
    "\n",
    "        accuracy[l][s] = accuracy_score(y_test, y_pred)\n"
   ]
  },
  {
   "cell_type": "code",
   "execution_count": 43,
   "metadata": {
    "execution": {
     "iopub.execute_input": "2021-05-27T11:12:34.302828Z",
     "iopub.status.busy": "2021-05-27T11:12:34.302348Z",
     "iopub.status.idle": "2021-05-27T11:12:34.310096Z",
     "shell.execute_reply": "2021-05-27T11:12:34.308788Z",
     "shell.execute_reply.started": "2021-05-27T11:12:34.302792Z"
    }
   },
   "outputs": [
    {
     "name": "stdout",
     "output_type": "stream",
     "text": [
      "Optimal learning rate : 1e-05, mini-batch size : 1\n"
     ]
    }
   ],
   "source": [
    "(l, s) = np.unravel_index(accuracy.argmax(), accuracy.shape)\n",
    "print('Optimal learning rate : {}, mini-batch size : {}'.format(lr[l], minibatch_size[s]))"
   ]
  },
  {
   "cell_type": "markdown",
   "metadata": {},
   "source": [
    "###### Choice of the optimizer\n",
    "\n",
    "For lr = 10**(-5), minibatch_size = 100, 1000 steps\n",
    "<table>\n",
    "<tr>\n",
    "<th>Optimizer</th>\n",
    "<th>Accuracy</th>\n",
    "<th>Loss at Epoch 1000</th>\n",
    "</tr>\n",
    "    \n",
    "<tr>\n",
    "<td>SGD</td>\n",
    "<td>50.7 %</td>\n",
    "<td>531 790</td>\n",
    "</tr>\n",
    "\n",
    "<tr>\n",
    "<td>Adam</td>\n",
    "<td>50.8%</td>\n",
    "<td>111 228</td>\n",
    "</tr>\n",
    "\n",
    "<tr>\n",
    "<td>Adagrad</td>\n",
    "<td>50.8%</td>\n",
    "<td>116 634</td>\n",
    "</tr>\n",
    "\n",
    "</table>\n",
    "\n",
    "The choice of the optimizer doesn't in fact have much effect on the quality of the prediction. However the Stochastic Gradient Descent (SGD) allows us to reach a lower loss.\n"
   ]
  },
  {
   "cell_type": "markdown",
   "metadata": {},
   "source": [
    "## 2F"
   ]
  },
  {
   "cell_type": "code",
   "execution_count": 42,
   "metadata": {
    "execution": {
     "iopub.execute_input": "2021-05-27T11:07:35.075424Z",
     "iopub.status.busy": "2021-05-27T11:07:35.074947Z",
     "iopub.status.idle": "2021-05-27T11:07:35.090534Z",
     "shell.execute_reply": "2021-05-27T11:07:35.089415Z",
     "shell.execute_reply.started": "2021-05-27T11:07:35.075376Z"
    }
   },
   "outputs": [
    {
     "name": "stdout",
     "output_type": "stream",
     "text": [
      "Error rate for Linear Regression : 0.09736\n",
      "Error rate for MCMC : 0.30042\n",
      "Error rate for Variational Inference: 0.49349\n"
     ]
    }
   ],
   "source": [
    "print('Error rate for Linear Regression : {}'.format(error_rate_linear_regression))\n",
    "print('Error rate for MCMC : {}'.format(error_rate_mcmc))\n",
    "print('Error rate for Variational Inference: {}'.format(error_rate_vi))"
   ]
  },
  {
   "cell_type": "code",
   "execution_count": 46,
   "metadata": {
    "execution": {
     "iopub.execute_input": "2021-05-27T11:14:42.413136Z",
     "iopub.status.busy": "2021-05-27T11:14:42.412705Z",
     "iopub.status.idle": "2021-05-27T11:14:42.421587Z",
     "shell.execute_reply": "2021-05-27T11:14:42.419951Z",
     "shell.execute_reply.started": "2021-05-27T11:14:42.413098Z"
    }
   },
   "outputs": [
    {
     "name": "stdout",
     "output_type": "stream",
     "text": [
      "Confusion Matrix for Linear Regression : \n",
      " [[90003    26]\n",
      " [ 9710   261]]\n",
      "Confusion Matrix for MCMC : \n",
      " [[66838 23191]\n",
      " [ 6851  3120]]\n",
      "Confusion Matrix for Variational Inference : \n",
      " [[45387 44642]\n",
      " [ 4707  5264]]\n"
     ]
    }
   ],
   "source": [
    "print('Confusion Matrix for Linear Regression : \\n {}'.format(cm_linear_regression))\n",
    "print('Confusion Matrix for MCMC : \\n {}'.format(cm_mcmc))\n",
    "print('Confusion Matrix for Variational Inference : \\n {}'.format(cm_vi))"
   ]
  },
  {
   "cell_type": "markdown",
   "metadata": {},
   "source": [
    "Despite a lower error rate for linear regression, we can see that this performance is mainly due to the fact that most of the predictions are classified as '1'. The number of false positives is the highest (9710 for Linear Regression, 6851 for MCMC and 4707 for Variational Inference). Therefore as suggested in question B, the imbalanced dataset and the number of features (especially if considered uncorrelated) has an impact when evaluating the model. The \"bias\" towards the negative class in an imbalanced set originates from the-best-guess-is-majority-class-if-everything-else-is-equal, something which Naive Bayes is sensitive to (especially when a lot of features are involved), thus the high number of false positives for Linear Regression. "
   ]
  },
  {
   "cell_type": "markdown",
   "metadata": {},
   "source": [
    "## 2G"
   ]
  },
  {
   "cell_type": "code",
   "execution_count": 47,
   "metadata": {
    "execution": {
     "iopub.execute_input": "2021-05-27T11:23:06.680781Z",
     "iopub.status.busy": "2021-05-27T11:23:06.680384Z",
     "iopub.status.idle": "2021-05-27T11:23:06.687631Z",
     "shell.execute_reply": "2021-05-27T11:23:06.686017Z",
     "shell.execute_reply.started": "2021-05-27T11:23:06.680748Z"
    }
   },
   "outputs": [
    {
     "name": "stdout",
     "output_type": "stream",
     "text": [
      "Mean loglikelihood for MCMC : -0.6189762133470926\n",
      "Mean loglikelihood for VI : -1.5140644311904907\n"
     ]
    }
   ],
   "source": [
    "print('Mean loglikelihood for MCMC : {}'.format(mean_log_likelihood_mcmc))\n",
    "print('Mean loglikelihood for VI : {}'.format(mean_log_likelihood_vi))"
   ]
  },
  {
   "cell_type": "markdown",
   "metadata": {},
   "source": [
    "As we can see, the mean loglikelihood is closer to zero than the mean loglikelihood for Variational Inference meaning that the first has a likelihood closer to 1 than the other. As the likelihood function measures the goodness of fit of a statistical model to a sample of data for given values of the unknown parameters, the results are coherent. As a matter of fact, in Variationanal Inference a bias is introduced as we choose from a family of distributions instead of constructing an approximate distribution directly from the samples."
   ]
  },
  {
   "cell_type": "code",
   "execution_count": 62,
   "metadata": {
    "execution": {
     "iopub.execute_input": "2021-05-27T11:32:07.434252Z",
     "iopub.status.busy": "2021-05-27T11:32:07.433288Z",
     "iopub.status.idle": "2021-05-27T11:32:08.715137Z",
     "shell.execute_reply": "2021-05-27T11:32:08.714054Z",
     "shell.execute_reply.started": "2021-05-27T11:32:07.434212Z"
    }
   },
   "outputs": [
    {
     "data": {
      "text/plain": [
       "[]"
      ]
     },
     "execution_count": 62,
     "metadata": {},
     "output_type": "execute_result"
    },
    {
     "data": {
      "image/png": "[encoded data removed]",
      "text/plain": [
       "<Figure size 432x288 with 2 Axes>"
      ]
     },
     "metadata": {
      "needs_background": "light"
     },
     "output_type": "display_data"
    }
   ],
   "source": [
    "predictions_mcmc_0_5 = [x for x in predictions_mcmc[0] if 0.45 < x < 0.55]\n",
    "predictions_vi_0_5 = [x for x in predictions_vi[0].T[0] if 0.45 < x < 0.55]\n",
    "\n",
    "n_bins = 100\n",
    "fig, axs = plt.subplots(1, 2, sharey=True, tight_layout=True)\n",
    "fig.suptitle('Test points with a predictive distribution mean around 0.5 : between 0.45 and 0.55')\n",
    "axs[0].hist(predictions_mcmc_0_5, bins=n_bins)\n",
    "axs[0].title.set_text('Metropolis-Hastings')\n",
    "axs[1].hist(predictions_vi_0_5, bins=n_bins)\n",
    "axs[1].title.set_text('Variational Inference')\n",
    "plt.plot()"
   ]
  },
  {
   "cell_type": "code",
   "execution_count": 59,
   "metadata": {
    "execution": {
     "iopub.execute_input": "2021-05-27T11:29:03.320319Z",
     "iopub.status.busy": "2021-05-27T11:29:03.319885Z",
     "iopub.status.idle": "2021-05-27T11:29:05.665852Z",
     "shell.execute_reply": "2021-05-27T11:29:05.665030Z",
     "shell.execute_reply.started": "2021-05-27T11:29:03.320276Z"
    }
   },
   "outputs": [
    {
     "data": {
      "text/plain": [
       "[]"
      ]
     },
     "execution_count": 59,
     "metadata": {},
     "output_type": "execute_result"
    },
    {
     "data": {
      "image/png": "[encoded data removed]",
      "text/plain": [
       "<Figure size 432x288 with 2 Axes>"
      ]
     },
     "metadata": {
      "needs_background": "light"
     },
     "output_type": "display_data"
    }
   ],
   "source": [
    "predictions_mcmc_right = [predictions_mcmc[0][i] for i in range (len(predictions_mcmc[0])) if ((predictions_mcmc[0][i]>0.5).astype(int) == y_test[i])]\n",
    "predictions_vi_right = [predictions_vi[0].T[0][i] for i in range (len(predictions_vi[0])) if ((predictions_vi[0].T[0][i]>0.5).astype(int) == y_test[i])]\n",
    "predictions_mcmc_right = predictions_mcmc_right[:len(predictions_vi_right)]\n",
    "\n",
    "n_bins = 100\n",
    "fig, axs = plt.subplots(1, 2, sharey=True, tight_layout=True)\n",
    "fig.suptitle('Test points rightly classified')\n",
    "axs[0].title.set_text('Metropolis-Hastings')\n",
    "axs[0].hist(predictions_mcmc_right, bins=n_bins)\n",
    "axs[1].title.set_text('Variational Inference')\n",
    "axs[1].hist(predictions_vi_right, bins=n_bins)\n",
    "plt.plot()"
   ]
  },
  {
   "cell_type": "code",
   "execution_count": 61,
   "metadata": {
    "execution": {
     "iopub.execute_input": "2021-05-27T11:29:17.620817Z",
     "iopub.status.busy": "2021-05-27T11:29:17.620444Z",
     "iopub.status.idle": "2021-05-27T11:29:19.735214Z",
     "shell.execute_reply": "2021-05-27T11:29:19.734494Z",
     "shell.execute_reply.started": "2021-05-27T11:29:17.620784Z"
    }
   },
   "outputs": [
    {
     "data": {
      "text/plain": [
       "[]"
      ]
     },
     "execution_count": 61,
     "metadata": {},
     "output_type": "execute_result"
    },
    {
     "data": {
      "image/png": "[encoded data removed]",
      "text/plain": [
       "<Figure size 432x288 with 2 Axes>"
      ]
     },
     "metadata": {
      "needs_background": "light"
     },
     "output_type": "display_data"
    }
   ],
   "source": [
    "predictions_mcmc_wrong = [predictions_mcmc[0][i] for i in range (len(predictions_mcmc[0])) if ((predictions_mcmc[0][i]>0.5).astype(int) != y_test[i])]\n",
    "predictions_vi_wrong = [predictions_vi[0].T[0][i] for i in range (len(predictions_vi[0])) if ((predictions_vi[0].T[0][i]>0.5).astype(int) != y_test[i])]\n",
    "predictions_vi_wrong = predictions_vi_wrong[:len(predictions_mcmc_wrong)]\n",
    "\n",
    "n_bins = 100\n",
    "fig, axs = plt.subplots(1, 2, sharey=True, tight_layout=True)\n",
    "fig.suptitle('Test points wrongly classified')\n",
    "axs[0].title.set_text('Metropolis-Hastings')\n",
    "axs[0].hist(predictions_mcmc_wrong, bins=n_bins)\n",
    "axs[1].title.set_text('Variational Inference')\n",
    "axs[1].hist(predictions_vi_wrong, bins=n_bins)\n",
    "plt.plot()"
   ]
  },
  {
   "cell_type": "markdown",
   "metadata": {},
   "source": [
    "From the graphs we can see that most of the righly classified points are labelled as '0' while the wrongly classified are mainly samples labelled as '0' but classified as '1'.\n",
    "The main difference between Metropolis-Hastings and Variational Inference is the predictive distribution. As a matter of fact, the Variational Inference one have fewer points towards 0.5 as shown in the first graph and tens to have a higher number of samples with a mean either closer to 0 or 1. The uncertainty on the predictions are therefore lower for the Variational Inference model than for the Metropolis Hastings algorithm."
   ]
  },
  {
   "cell_type": "markdown",
   "metadata": {},
   "source": [
    "# Bonus question : Laplace"
   ]
  },
  {
   "cell_type": "markdown",
   "metadata": {},
   "source": [
    "There seems to be an issue when trying to evaluate the second derivative of log_g in w_hat. I also trie coding my own second derivative using Taylor approximation but the multivariate case was complicated to handle. Due to a lack of time, I wasn't able to fix the issue."
   ]
  },
  {
   "cell_type": "code",
   "execution_count": null,
   "metadata": {
    "execution": {
     "iopub.execute_input": "2021-05-26T12:23:58.622299Z",
     "iopub.status.busy": "2021-05-26T12:23:58.621919Z",
     "iopub.status.idle": "2021-05-26T12:23:58.635355Z",
     "shell.execute_reply": "2021-05-26T12:23:58.634403Z",
     "shell.execute_reply.started": "2021-05-26T12:23:58.622267Z"
    }
   },
   "outputs": [],
   "source": [
    "from jax import hessian\n",
    "import scipy\n",
    "\n",
    "class Laplace():\n",
    "    @property\n",
    "    def samples(self):\n",
    "        return self._samples\n",
    "    @samples.getter    \n",
    "    def samples(self):\n",
    "        return np.asarray(self._samples)\n",
    "    \n",
    "    def __init__(self, number_samples, likelihood, prior):\n",
    "        self.likelihood = likelihood\n",
    "        self.prior = prior\n",
    "        self.mean = []\n",
    "        self.n_samples = number_samples\n",
    "        self._samples = []\n",
    "    \n",
    "    def log_g(self, w, X, y):\n",
    "        w = w.reshape(200,1)\n",
    "        log_likelihood = self.likelihood.logdensity(y, logistic((w.T@X)))\n",
    "        log_prior = self.prior.logdensity(w)\n",
    "        return (log_likelihood + log_prior)[0][0]\n",
    "\n",
    "    def w_hat(self, X, y):\n",
    "        max_w = scipy.optimize.fmin(lambda w: -self.log_g(w, X, y), np.random.randn(200, 1))\n",
    "        return max_w\n",
    "    \n",
    "    def inv_sigma(self, X, y):\n",
    "        return - hessian(lambda w: self.log_g(w, X, y))(self.mean)\n",
    "    \n",
    "    def approx(self, X, y):\n",
    "        self.mean = self.w_hat(X,y).reshape(200,1)\n",
    "        print('mean ok')\n",
    "        sigma_inv = self.inv_sigma(X, y)\n",
    "        print('inv ok')\n",
    "        sigma = np.linalg.solve(sigma_inv, np.identity(len(sigma_inv)))\n",
    "        print('sigma ok')\n",
    "        self._samples = np.random.multivariate_normal(self.mean, sigma, self.n_samples)\n",
    "        return self._samples"
   ]
  },
  {
   "cell_type": "code",
   "execution_count": null,
   "metadata": {
    "execution": {
     "iopub.execute_input": "2021-05-26T12:26:37.848099Z",
     "iopub.status.busy": "2021-05-26T12:26:37.847492Z",
     "iopub.status.idle": "2021-05-26T12:40:33.342978Z",
     "shell.execute_reply": "2021-05-26T12:40:33.339689Z",
     "shell.execute_reply.started": "2021-05-26T12:26:37.84805Z"
    }
   },
   "outputs": [],
   "source": [
    "set_seed()\n",
    "\n",
    "likelihood = BernoulliLikelihood()\n",
    "prior = NormalPrior(1)\n",
    "n_samples = 100\n",
    "sampler = Laplace(n_samples, likelihood, prior)\n",
    "sampler.approx(X_train.T, y_train)\n",
    "print(sampler.samples)"
   ]
  },
  {
   "cell_type": "code",
   "execution_count": null,
   "metadata": {},
   "outputs": [],
   "source": []
  },
  {
   "cell_type": "code",
   "execution_count": null,
   "metadata": {},
   "outputs": [],
   "source": []
  }
 ],
 "metadata": {
  "kernelspec": {
   "display_name": "Python 3",
   "language": "python",
   "name": "python3"
  },
  "language_info": {
   "codemirror_mode": {
    "name": "ipython",
    "version": 3
   },
   "file_extension": ".py",
   "mimetype": "text/x-python",
   "name": "python",
   "nbconvert_exporter": "python",
   "pygments_lexer": "ipython3",
   "version": "3.8.2"
  }
 },
 "nbformat": 4,
 "nbformat_minor": 4
}
